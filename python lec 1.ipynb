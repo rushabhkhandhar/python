{
 "cells": [
  {
   "cell_type": "code",
   "execution_count": 51,
   "metadata": {},
   "outputs": [
    {
     "name": "stdout",
     "output_type": "stream",
     "text": [
      "8\n",
      "0\n",
      "0.6\n",
      "15\n",
      "1.7999999999999998\n",
      "3\n",
      "False\n",
      "96\n",
      "0\n",
      "35\n"
     ]
    }
   ],
   "source": [
    "#operators -basic operators and their function \n",
    "i=3\n",
    "m=5\n",
    "print(i+m)\n",
    "print(i//m)\n",
    "print(i/m)\n",
    "print(i*m)\n",
    "print((i/m)*(i))\n",
    "print(i&m|i)\n",
    "print(i==m)\n",
    "print(i<<m)\n",
    "print(i>>m)\n",
    "print(\"3\"+\"5\")\n",
    "\n",
    "\n",
    "\n",
    "\n",
    "\n",
    "\n"
   ]
  },
  {
   "cell_type": "code",
   "execution_count": 52,
   "metadata": {},
   "outputs": [
    {
     "name": "stdout",
     "output_type": "stream",
     "text": [
      "20\n",
      "3.555\n"
     ]
    }
   ],
   "source": [
    "#typecasting-here we converted one datatype to another\n",
    "string_num=\"10\"\n",
    "int_num=int(string_num)\n",
    "print(int_num+10)\n",
    "\n",
    "num=3.555\n",
    "stringify_num=str(num)\n",
    "print(stringify_num)\n",
    "\n",
    "\n"
   ]
  },
  {
   "cell_type": "code",
   "execution_count": 53,
   "metadata": {},
   "outputs": [
    {
     "name": "stdout",
     "output_type": "stream",
     "text": [
      "hbahsur\n",
      "Rushabh\n",
      "RUSHABH\n",
      "True\n",
      "vowels are- iua\n",
      "['rushabh', 'is', 'my', 'name']\n"
     ]
    }
   ],
   "source": [
    "#string -explored various functions of string \n",
    "s=\"rushabh\"\n",
    "print( s[::-1]) #to reverse\n",
    "capital=s.capitalize()\n",
    "print(capital)\n",
    "uppercase=s.upper()\n",
    "print(uppercase)\n",
    "len(s)\n",
    "\n",
    "input_str = \"A man, a plan, a canal: Panama\"   #to check palindrome\n",
    "cleaned_str = ''.join(c.lower() for c in input_str if c.isalnum())\n",
    "is_palindrome = cleaned_str == cleaned_str[::-1]\n",
    "print(is_palindrome) \n",
    "\n",
    "#to check vowels \n",
    "s1=\"Hi Rushabh\"\n",
    "vowels='aeiouAEIOU'\n",
    "resulting_string=''.join(char for char in s1 if char in vowels) #or resulting_str(char for i in s1 if in not vowels) .....print(\"Without vowels\",resulting_vowels)\n",
    "print(\"vowels are-\",resulting_string)\n",
    "\n",
    "\n",
    "\n",
    "#to split a string\n",
    "input_str1=\"rushabh is my name\"\n",
    "split_string=input_str1.split()\n",
    "print(split_string)"
   ]
  },
  {
   "cell_type": "code",
   "execution_count": 54,
   "metadata": {},
   "outputs": [
    {
     "name": "stdout",
     "output_type": "stream",
     "text": [
      "[1, 2, 3, 4]\n",
      "1\n",
      "[1, 2, 3, 4, 5]\n",
      "[1, 2, 3, 5]\n",
      "[1, 100, 3, 5]\n",
      "[1]\n",
      "[1, 100, 3, 5, 6, 7, 8, 9]\n",
      "[100]\n",
      "[5, 3, 100, 1]\n",
      "r's average score: 50.00\n",
      "u's average score: 66.67\n",
      "s's average score: 36.67\n",
      "h's average score: 60.00\n"
     ]
    }
   ],
   "source": [
    "#list\n",
    "#1)basic printing of list\n",
    "rush_list=[1,2,3,4]\n",
    "rush_list1=[6,7,8,9]\n",
    "print(rush_list)\n",
    "\n",
    "#2)various methods\n",
    "print(rush_list[0])\n",
    "rush_list.append(5) #append\n",
    "print(rush_list)\n",
    "rush_list.pop(3)#pop\n",
    "print(rush_list) \n",
    "rush_list[1]=100 #update\n",
    "print(rush_list) \n",
    "rush_slice_list=rush_list[0:1:4] #slicing\n",
    "print(rush_slice_list)\n",
    "rush_concat=rush_list+rush_list1 #concat\n",
    "print(rush_concat)\n",
    "even_number=[i for i in rush_list if i%2==0] #listfiltering\n",
    "print(even_number)\n",
    "rush_list.reverse()#reverse\n",
    "print(rush_list)\n",
    "\n",
    "#nested list\n",
    "students_score=[[\"r\",40,50,60],[\"u\",40,50,110],[\"s\",40,50,20],[\"h\",40,50,90]]\n",
    "for student_data in students_score:\n",
    "    name=student_data[0]\n",
    "    score=student_data[1:]\n",
    "    avg_score=sum(score) / len(score)\n",
    "    print(f\"{name}'s average score: {avg_score:.2f}\")\n",
    "\n",
    "\n",
    "\n",
    "\n",
    "\n",
    "\n",
    "\n"
   ]
  },
  {
   "cell_type": "code",
   "execution_count": 55,
   "metadata": {},
   "outputs": [
    {
     "name": "stdout",
     "output_type": "stream",
     "text": [
      "{(2, 3), 1, 3, 4}\n",
      "{1}\n",
      "{(2, 3), 1, 5}\n",
      "{(2, 3), 1, 2, 5}\n"
     ]
    }
   ],
   "source": [
    "#set\n",
    "set1={1,(2,3)}\n",
    "set2={3,4,1}\n",
    "union_set=set1.union(set2) #union\n",
    "print(union_set)\n",
    "union_set=set1.intersection(set2) #intersection\n",
    "print(union_set)\n",
    "set1.add(5) #adding a element\n",
    "print(set1)\n",
    "for i in range(1,3):\n",
    " set1.add(i)\n",
    "print(set1)\n",
    "\n"
   ]
  },
  {
   "cell_type": "code",
   "execution_count": 56,
   "metadata": {},
   "outputs": [
    {
     "name": "stdout",
     "output_type": "stream",
     "text": [
      "something pleasure\n",
      "dict_keys(['good', 'rushabh'])\n",
      "dict_values(['something pleasure', 'name of god'])\n",
      "dict_items([('good', 'something pleasure'), ('rushabh', 'name of god')])\n",
      "{'good': 'something pleasure', 'rushabh': 'name of god', 'yuvraj': 'rajasthani'}\n",
      "{'good': 'something pleasure', 'rushabh': 'name of god', 'yuvraj': 'rajasthani', 'worst': 'something not accepted', 'rush': 'in hurry'}\n",
      "{'Nested': {'shantanu': 'malad', 'saurav': 'kalwa'}, 'harshil': 'Indian'}\n",
      "something pleasure\n",
      "rajasthani\n",
      "malad\n",
      "{'rushabh': 'name of god', 'yuvraj': 'rajasthani'}\n"
     ]
    }
   ],
   "source": [
    "#dictionary\n",
    "dict1={\"good\":\"something pleasure\",\"rushabh\":\"name of god\"}\n",
    "dict2={\"worst\":\"something not accepted\",\"rush\":\"in hurry\"}\n",
    "\n",
    "print(dict1[\"good\"])\n",
    "print(dict1.keys())\n",
    "print(dict1.values())\n",
    "print(dict1.items()) #it gives the output in form of tuple\n",
    "dict1['yuvraj']='rajasthani' #to add into dictionary\n",
    "print(dict1)\n",
    "merge_dic={**dict1,**dict2}#to merge dictionary  ...... or dic1.update(dict2)\n",
    "print(merge_dic) \n",
    "dict2={'Nested':{'shantanu':'malad','saurav':'kalwa'},'harshil':'Indian'} #nested dictionary\n",
    "print(dict2)\n",
    "#for accessing\n",
    "print(dict1['good'])\n",
    "print(dict1.get('yuvraj'))\n",
    "#for accessing nested \n",
    "print(dict2['Nested']['shantanu'])\n",
    "#delete \n",
    "del(dict1['good'])\n",
    "print(dict1)"
   ]
  },
  {
   "cell_type": "code",
   "execution_count": 57,
   "metadata": {},
   "outputs": [
    {
     "name": "stdout",
     "output_type": "stream",
     "text": [
      "invalid input\n"
     ]
    }
   ],
   "source": [
    "#if-else\n",
    "# num1=float(input(\"enter first number\"))\n",
    "# num2=float(input(\"enter second number\"))\n",
    "# num3=float(input(\"enter Third number\"))\n",
    "# if(num1>num2) and (num1>num3):\n",
    "#  print(\"largest\",num1)\n",
    "# elif (num2>num1) and (num2>num3):\n",
    "#   print(\"largest\",num2)\n",
    "# else:\n",
    "#   print(\"largest\",num3)\n",
    "\n",
    "#nested if-else\n",
    "# start=int(input(\"Enter a number\"))\n",
    "# end=int(input(\"Enter a number\"))\n",
    "# print(\"prime number\")\n",
    "# for num in range(start,end+1):\n",
    "#   if num>1:\n",
    "#     is_prime=True\n",
    "#     for i in range(2,int(num**0.5)+1):\n",
    "#       if num%i==0:\n",
    "#         is_prime=False\n",
    "#         break\n",
    "#       if is_prime:\n",
    "#         print(num,end=' ')\n",
    "\n",
    "# text=input(\"enter a string\")\n",
    "# vowels=\"aeiou\"\n",
    "# vowels_count=0\n",
    "# for i in text.lower():\n",
    "#  if i in vowels:\n",
    "#   vowels_count+=1\n",
    "# print(\"totalvowels are \",vowels_count)\n",
    "\n",
    "# if-else ladder\n",
    "player1=input(\"player1 choose stone,paper or scissors\").lower()\n",
    "player2=input(\"player2 choose stone,paper or scissors\").lower()\n",
    "\n",
    "if player1 in {\"stone\",\"paper\",\"scissors\"} and player2 in {\"stone\",\"paper\",\"scissors\"}:\n",
    " if player1==player2:\n",
    "  print(\"its a tie\")\n",
    " elif(player1== \"stone\" and player2==\"scissors\") or \\\n",
    "     (player1== \"paper\" and player2==\"scissors\")  or \\\n",
    "     (player1== \"paper\" and player2==\"rock\"):\n",
    "     print(\"player1 is winner\")\n",
    " else:\n",
    "   print(\"player2 is winner\")    \n",
    "else:\n",
    "  print(\"invalid input\")\n",
    "\n",
    "\n"
   ]
  },
  {
   "cell_type": "code",
   "execution_count": 58,
   "metadata": {},
   "outputs": [
    {
     "name": "stdout",
     "output_type": "stream",
     "text": [
      "Current Letter : r\n",
      "Current Letter : u\n"
     ]
    }
   ],
   "source": [
    "# loops\n",
    "# movie_ratings = {\n",
    "#     \"MovieA\": [4, 5, 3, 4, 5],\n",
    "#     \"MovieB\": [2, 3, 2, 1, 3],\n",
    "#     \"MovieC\": [5, 5, 4, 5, 5],\n",
    "#     \"MovieD\": [3, 4, 3, 4, 2]\n",
    "# }\n",
    "\n",
    "# for movie, ratings in movie_ratings.items():\n",
    "#     average_rating = sum(ratings) / len(ratings)\n",
    "#     highest_rating = max(ratings)\n",
    "#     lowest_rating = min(ratings)\n",
    "#     print(f\"{movie}: Average Rating = {average_rating:.2f}, Highest Rating = {highest_rating}, Lowest Rating = {lowest_rating}\")\n",
    "\n",
    "#check consonants\n",
    "# sentence = input(\"Enter a sentence: \")\n",
    "# consonant_groups = 0\n",
    "# consonants = \"bcdfghjklmnpqrstvwxyz\"\n",
    "\n",
    "# for i in range(len(sentence) - 1):\n",
    "#     if sentence[i].lower() in consonants and sentence[i + 1].lower() in consonants:\n",
    "#         consonant_groups += 1\n",
    "\n",
    "# print(f\"Number of consonant groups: {consonant_groups}\")\n",
    "\n",
    "#Python For Loop with a step size -here we generate numbers and sum the evens\n",
    "# lower_limit = int(input(\"Enter lower limit: \"))\n",
    "# upper_limit = int(input(\"Enter upper limit: \"))\n",
    "# even_sum = 0\n",
    "# for num in range(lower_limit, upper_limit, 2):\n",
    "#     even_sum += num\n",
    "# print(f\"Sum of even numbers between {lower_limit} and {upper_limit}: {even_sum}\")\n",
    "\n",
    "# Python For Loop with Zip()\n",
    "# color=['red','yellow','green']\n",
    "# object=['mirchi','lemon','harimichi']\n",
    "# for color,object in zip(color,object):\n",
    "#     print(color,\"is\",object)\n",
    "\n",
    "# Python For Loop with Tuple\n",
    "# Example tuple\n",
    "# fruits = (\"apple\", \"banana\", \"cherry\", \"date\", \"elderberry\")\n",
    "# for fruit in fruits:\n",
    "#     print(fruit)\n",
    "\n",
    "# python code to demonstrate working of sorted()\n",
    "\n",
    "# lis = [1, 3, 5, 6, 2, 1, 3]\n",
    "# print(\"The list in sorted order is : \")\n",
    "# for i in sorted(lis):\n",
    "# \tprint(i, end=\" \")\n",
    "# print(\"\\r\")\n",
    "# print(\"The list in sorted order (without duplicates) is : \")\n",
    "# for i in sorted(set(lis)):\n",
    "# \tprint(i, end=\" \")\n",
    "\n",
    "# while loop-break \n",
    "# break the loop as soon it sees 'e'\n",
    "# or 's'\n",
    "i = 0\n",
    "a = 'rushabh khandhar'\n",
    "\n",
    "while i < len(a):\n",
    "\tif a[i] == 'e' or a[i] == 's':\n",
    "\t\ti += 1\n",
    "\t\tbreak\n",
    "\t\t\n",
    "\tprint('Current Letter :', a[i])\n",
    "\ti += 1\n",
    "\n",
    "\n"
   ]
  },
  {
   "cell_type": "code",
   "execution_count": 59,
   "metadata": {},
   "outputs": [
    {
     "name": "stdout",
     "output_type": "stream",
     "text": [
      "x:  10\n",
      "y:  50\n",
      "rushabh Khandhar\n",
      "rushabh khandhar\n",
      "\n",
      "Case-1:\n",
      "Hi, I am rushabh\n",
      "My age is  19\n",
      "\n",
      "Case-2:\n",
      "Hi, I am 19\n",
      "My age is  rushabh\n",
      "4.0\n",
      "30.0\n",
      "Number of keyword arguments: 3\n",
      "name: Alice\n",
      "age: 30\n",
      "city: New York\n",
      "Title: Book B, Year: 1998\n",
      "Title: Book D, Year: 2000\n",
      "Title: Book A, Year: 2005\n",
      "Title: Book C, Year: 2012\n",
      "global :  1\n",
      "Inside f() :  1\n",
      "global :  1\n",
      "Inside g() :  2\n",
      "global :  1\n",
      "Inside h() :  3\n",
      "global :  3\n"
     ]
    }
   ],
   "source": [
    "# function\n",
    "# default arguments\n",
    "def myFun(x, y=50):\n",
    "\tprint(\"x: \", x)\n",
    "\tprint(\"y: \", y)\n",
    "myFun(10)\n",
    "\n",
    "# Python program to demonstrate Keyword Arguments\n",
    "def student(firstname, lastname):\n",
    "\tprint(firstname, lastname)\n",
    "student(firstname='rushabh', lastname='Khandhar')\n",
    "student(lastname='khandhar', firstname='rushabh')\n",
    "\n",
    "#position arguments\n",
    "def nameAge(name, age):\n",
    "\tprint(\"Hi, I am\", name)\n",
    "\tprint(\"My age is \", age)\n",
    "print(\"\\nCase-1:\")\n",
    "nameAge(\"rushabh\", 19)\n",
    "print(\"\\nCase-2:\")\n",
    "nameAge(19, \"rushabh\")\n",
    "\n",
    "#*args\n",
    "def average(*args):\n",
    "    if not args:\n",
    "        return 0\n",
    "    return sum(args) / len(args)\n",
    "\n",
    "print(average(2, 4, 6))\n",
    "print(average(10, 20, 30, 40, 50))\n",
    "\n",
    "#**kwargs\n",
    "def print_kwargs(**kwargs):\n",
    "    print(\"Number of keyword arguments:\", len(kwargs))\n",
    "    for key, value in kwargs.items():\n",
    "        print(f\"{key}: {value}\")\n",
    "\n",
    "print_kwargs(name=\"Alice\", age=30, city=\"New York\")\n",
    "\n",
    "#lambda\n",
    "# lambda arguments : expression     -syntax\n",
    "books = [\n",
    "    {\"title\": \"Book A\", \"year\": 2005},\n",
    "    {\"title\": \"Book B\", \"year\": 1998},\n",
    "    {\"title\": \"Book C\", \"year\": 2012},\n",
    "    {\"title\": \"Book D\", \"year\": 2000}\n",
    "]\n",
    "sorted_books = sorted(books,key=lambda book: book[\"year\"])\n",
    "for book in sorted_books:\n",
    "    print(f\"Title: {book['title']}, Year: {book['year']}\")\n",
    "\n",
    "#global and local\n",
    "a = 1\n",
    "\n",
    "# Uses global because there is no local 'a'\n",
    "def f():\n",
    "\tprint('Inside f() : ', a)\n",
    "\n",
    "# Variable 'a' is redefined as a local\n",
    "def g():\n",
    "\ta = 2\n",
    "\tprint('Inside g() : ', a)\n",
    "\n",
    "# Uses global keyword to modify global 'a'\n",
    "def h():\n",
    "\tglobal a\n",
    "\ta = 3\n",
    "\tprint('Inside h() : ', a)\n",
    "\n",
    "\n",
    "# Global scope\n",
    "print('global : ', a)\n",
    "f()\n",
    "print('global : ', a)\n",
    "g()\n",
    "print('global : ', a)\n",
    "h()\n",
    "print('global : ', a)\n",
    "\n"
   ]
  },
  {
   "cell_type": "code",
   "execution_count": 60,
   "metadata": {},
   "outputs": [
    {
     "name": "stdout",
     "output_type": "stream",
     "text": [
      "my first name is rushabh and my surname is khandhar\n"
     ]
    }
   ],
   "source": [
    "#oops\n",
    "class myself:\n",
    "    def __init__(self,name,surname):\n",
    "          self.name=name\n",
    "          self.surname=surname\n",
    "    def show(self):\n",
    "            print(f\"my first name is { self.name } and my surname is {self.surname}\" )\n",
    "       \n",
    "obj= myself('rushabh','khandhar')\n",
    "obj.show()\n",
    "\n",
    "\n",
    "\n"
   ]
  },
  {
   "cell_type": "code",
   "execution_count": 61,
   "metadata": {},
   "outputs": [
    {
     "name": "stdout",
     "output_type": "stream",
     "text": [
      "Default constructor called\n",
      "Method called without a name\n",
      "Parameterized constructor called with name Rushabh\n",
      "Method called with name Rushabh\n"
     ]
    }
   ],
   "source": [
    "class MyClass:\n",
    "\tdef __init__(self, name=None):\n",
    "\t\tif name is None:\n",
    "\t\t\tprint(\"Default constructor called\")\n",
    "\t\telse:\n",
    "\t\t\tself.name = name\n",
    "\t\t\tprint(\"Parameterized constructor called with name\", self.name)\n",
    "\t\n",
    "\tdef method(self):\n",
    "\t\tif hasattr(self, 'name'):\n",
    "\t\t\tprint(\"Method called with name\", self.name)\n",
    "\t\telse:\n",
    "\t\t\tprint(\"Method called without a name\")\n",
    "\n",
    "obj1 = MyClass()\n",
    "\n",
    "obj1.method()\n",
    "\n",
    "obj2 = MyClass(\"Rushabh\")\n",
    "\n",
    "obj2.method()\n"
   ]
  },
  {
   "cell_type": "code",
   "execution_count": 62,
   "metadata": {},
   "outputs": [
    {
     "name": "stdout",
     "output_type": "stream",
     "text": [
      "Rushabh\n",
      "92200\n",
      "41307\n",
      "Intern\n",
      "I am a fruit bat.\n",
      "Flying high!\n",
      "Feeding milk to the young ones.\n",
      "This function is in school.\n",
      "This function is in student 2.\n",
      "This function is in student 3.\n"
     ]
    }
   ],
   "source": [
    "#inheritance\n",
    "# class Person():\n",
    "# \tdef __init__(self, name):\n",
    "# \t\tself.name = name\n",
    "# \tdef getName(self):\n",
    "# \t\treturn self.name\n",
    "# \tdef isEmployee(self):\n",
    "# \t\treturn False\n",
    "# class Employee(Person):\n",
    "# \tdef isEmployee(self):\n",
    "# \t\treturn True\n",
    "# temp = Person(\"Rushabh\") \n",
    "# print(temp.getName(), temp.isEmployee())\n",
    "# temp = Employee(\"Yuvraj\") \n",
    "# print(temp.getName(), temp.isEmployee())\n",
    "\n",
    "\n",
    "\n",
    "\n",
    "class Person():\n",
    "\tdef __init__(self, name, idnumber):\n",
    "\t\tself.name = name\n",
    "\t\tself.idnumber = idnumber\n",
    "class Employee(Person):\n",
    "\tdef __init__(self, name, idnumber, salary, post):\n",
    "\t\tself.salary = salary\n",
    "\t\tself.post = post\n",
    "\t\tself.name=name\n",
    "\t\tself.idnumber=idnumber\n",
    "\tdef display(self):\n",
    "\t\tprint(self.name)\n",
    "\t\tprint(self.idnumber)\n",
    "\t\tprint(self.salary)\n",
    "\t\tprint(self.post)\n",
    "new = Employee('Rushabh', 92200, 41307, \"Intern\")     \n",
    "\n",
    "new.display()\n",
    "\n",
    "\n",
    "\n",
    "#multiple inheritance\n",
    "class Bird:\n",
    "    def fly(self):\n",
    "        return \"Flying high!\"\n",
    "\n",
    "class Mammal:\n",
    "    def feed_milk(self):\n",
    "        return \"Feeding milk to the young ones.\"\n",
    "\n",
    "class Bat(Bird, Mammal):\n",
    "    def __init__(self, species):\n",
    "        self.species = species\n",
    "    \n",
    "    def describe(self):\n",
    "        return f\"I am a {self.species} bat.\"\n",
    "\n",
    "bat = Bat(\"fruit\")\n",
    "\n",
    "print(bat.describe())     \n",
    "print(bat.fly())           \n",
    "print(bat.feed_milk())     \n",
    "\n",
    "\n",
    "# hybrid inheritance\n",
    "\n",
    "class School:\n",
    "\tdef func1(self):\n",
    "\t\tprint(\"This function is in school.\")\n",
    "class Student1(School):\n",
    "\tdef func2(self):\n",
    "\t\tprint(\"This function is in student 1. \")\n",
    "class Student2(School):\n",
    "\tdef func3(self):\n",
    "\t\tprint(\"This function is in student 2.\")\n",
    "class Student3(Student2, School):\n",
    "\tdef func4(self):\n",
    "\t\tprint(\"This function is in student 3.\")\n",
    "\n",
    "object = Student3()\n",
    "object.func1()\n",
    "object.func3()\n",
    "object.func4()\n",
    "\n",
    "\n"
   ]
  },
  {
   "cell_type": "code",
   "execution_count": 63,
   "metadata": {},
   "outputs": [
    {
     "name": "stdout",
     "output_type": "stream",
     "text": [
      "1000\n",
      "1300\n"
     ]
    }
   ],
   "source": [
    "#encapuslation\n",
    "class BankAccount:\n",
    "    def __init__(self, account_number, balance):\n",
    "        self._account_number = account_number \n",
    "        self.__balance = balance\n",
    "    def deposit(self, amount):\n",
    "        self.__balance += amount\n",
    "    def withdraw(self, amount):\n",
    "        if self.__balance >= amount:\n",
    "            self.__balance -= amount\n",
    "        else:\n",
    "            print(\"Insufficient balance.\")\n",
    "    def get_balance(self):\n",
    "        return self.__balance\n",
    "account = BankAccount(\"9220041\", 1000)\n",
    "print(account._BankAccount__balance)  \n",
    "account.deposit(500)\n",
    "account.withdraw(200)\n",
    "print(account.get_balance())\n"
   ]
  },
  {
   "cell_type": "code",
   "execution_count": 64,
   "metadata": {},
   "outputs": [
    {
     "name": "stdout",
     "output_type": "stream",
     "text": [
      "Woof!\n",
      "Quack!\n",
      "Meow!\n"
     ]
    }
   ],
   "source": [
    "#polymorphism\n",
    "class Animal:\n",
    "    def make_sound(self):\n",
    "        pass  # key takeaway-this is a way to pass a Abstract method\n",
    "class Dog(Animal):\n",
    "    def make_sound(self):\n",
    "        return \"Woof!\"\n",
    "class Cat(Animal):\n",
    "    def make_sound(self):\n",
    "        return \"Meow!\"\n",
    "class Duck(Animal):\n",
    "    def make_sound(self):\n",
    "        return \"Quack!\"\n",
    "\n",
    "def animal_sounds(animal):\n",
    "    return animal.make_sound()\n",
    "dog = Dog()\n",
    "cat = Cat()\n",
    "duck = Duck()\n",
    "print(animal_sounds(dog))   \n",
    "print(animal_sounds(duck))  \n",
    "print(animal_sounds(cat))  \n"
   ]
  },
  {
   "cell_type": "code",
   "execution_count": 65,
   "metadata": {},
   "outputs": [
    {
     "name": "stdout",
     "output_type": "stream",
     "text": [
      "Hello, Alice!\n",
      "Hello, Alice!\n",
      "Hello, Alice!\n"
     ]
    }
   ],
   "source": [
    "#decorators \n",
    "def repeat(num_times):\n",
    "    def decorator_repeat(func):\n",
    "        def wrapper(*args, **kwargs):\n",
    "            for _ in range(num_times):\n",
    "                result = func(*args, **kwargs)\n",
    "            return result\n",
    "        return wrapper\n",
    "    return decorator_repeat\n",
    "\n",
    "@repeat(num_times=3)\n",
    "def greet(name):\n",
    "    print(f\"Hello, {name}!\")\n",
    "\n",
    "greet(\"Alice\")\n"
   ]
  },
  {
   "cell_type": "code",
   "execution_count": 66,
   "metadata": {},
   "outputs": [
    {
     "name": "stdout",
     "output_type": "stream",
     "text": [
      "Yeah ! Your answer is : 3\n",
      "program completed\n"
     ]
    }
   ],
   "source": [
    "#exception handling\n",
    "def divide(x, y):\n",
    "\ttry:\n",
    "\t\tresult = x // y\n",
    "\t\tprint(\"Yeah ! Your answer is :\", result)\n",
    "\texcept ZeroDivisionError:\n",
    "\t\tprint(\"Sorry ! You are dividing by zero \")\n",
    "\tfinally:\n",
    "\t\tprint(\"program completed\")\n",
    "divide(3, 1)\n"
   ]
  },
  {
   "cell_type": "code",
   "execution_count": 67,
   "metadata": {},
   "outputs": [
    {
     "name": "stdout",
     "output_type": "stream",
     "text": [
      "please add money in your account\n"
     ]
    }
   ],
   "source": [
    "#raise - wala question\n",
    "\n",
    "try:\n",
    "\tamount = 1999\n",
    "\tif amount < 2999:\n",
    "\t\n",
    "\t\traise ValueError(\"please add money in your account\")\n",
    "\telse:\n",
    "\t\tprint(\"You are eligible to purchase stock Self Paced course\")\n",
    "\n",
    "except ValueError as e:\n",
    "\t\tprint(e)\n"
   ]
  },
  {
   "cell_type": "code",
   "execution_count": 69,
   "metadata": {},
   "outputs": [],
   "source": [
    "# for more exception -https://docs.python.org/3/tutorial/errors.html\n",
    "# python_doc- https://docs.python.org/3/py-modindex.html"
   ]
  }
 ],
 "metadata": {
  "kernelspec": {
   "display_name": "Python 3",
   "language": "python",
   "name": "python3"
  },
  "language_info": {
   "codemirror_mode": {
    "name": "ipython",
    "version": 3
   },
   "file_extension": ".py",
   "mimetype": "text/x-python",
   "name": "python",
   "nbconvert_exporter": "python",
   "pygments_lexer": "ipython3",
   "version": "3.10.12"
  },
  "orig_nbformat": 4
 },
 "nbformat": 4,
 "nbformat_minor": 2
}
