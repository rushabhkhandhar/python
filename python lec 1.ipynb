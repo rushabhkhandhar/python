{
 "cells": [
  {
   "cell_type": "code",
   "execution_count": 43,
   "metadata": {},
   "outputs": [
    {
     "name": "stdout",
     "output_type": "stream",
     "text": [
      "8\n",
      "0\n",
      "0.6\n",
      "15\n",
      "1.7999999999999998\n",
      "3\n",
      "False\n",
      "96\n",
      "0\n",
      "35\n"
     ]
    }
   ],
   "source": [
    "#operators -basic operators and their function \n",
    "i=3\n",
    "m=5\n",
    "print(i+m)\n",
    "print(i//m)\n",
    "print(i/m)\n",
    "print(i*m)\n",
    "print((i/m)*(i))\n",
    "print(i&m|i)\n",
    "print(i==m)\n",
    "print(i<<m)\n",
    "print(i>>m)\n",
    "print(\"3\"+\"5\")\n",
    "\n",
    "\n",
    "\n",
    "\n",
    "\n",
    "\n"
   ]
  },
  {
   "cell_type": "code",
   "execution_count": 44,
   "metadata": {},
   "outputs": [
    {
     "name": "stdout",
     "output_type": "stream",
     "text": [
      "20\n",
      "3.555\n"
     ]
    }
   ],
   "source": [
    "#typecasting-here we converted one datatype to another\n",
    "string_num=\"10\"\n",
    "int_num=int(string_num)\n",
    "print(int_num+10)\n",
    "\n",
    "num=3.555\n",
    "stringify_num=str(num)\n",
    "print(stringify_num)\n",
    "\n",
    "\n"
   ]
  },
  {
   "cell_type": "code",
   "execution_count": 45,
   "metadata": {},
   "outputs": [
    {
     "name": "stdout",
     "output_type": "stream",
     "text": [
      "hbahsur\n",
      "Rushabh\n",
      "RUSHABH\n",
      "True\n",
      "vowels are- iua\n",
      "['rushabh', 'is', 'my', 'name']\n"
     ]
    }
   ],
   "source": [
    "#string -explored various functions of string \n",
    "s=\"rushabh\"\n",
    "print( s[::-1]) #to reverse\n",
    "capital=s.capitalize()\n",
    "print(capital)\n",
    "uppercase=s.upper()\n",
    "print(uppercase)\n",
    "len(s)\n",
    "\n",
    "input_str = \"A man, a plan, a canal: Panama\"   #to check palindrome\n",
    "cleaned_str = ''.join(c.lower() for c in input_str if c.isalnum())\n",
    "is_palindrome = cleaned_str == cleaned_str[::-1]\n",
    "print(is_palindrome) \n",
    "\n",
    "#to check vowels \n",
    "s1=\"Hi Rushabh\"\n",
    "vowels='aeiouAEIOU'\n",
    "resulting_string=''.join(char for char in s1 if char in vowels) #or resulting_str(char for i in s1 if in not vowels) .....print(\"Without vowels\",resulting_vowels)\n",
    "print(\"vowels are-\",resulting_string)\n",
    "\n",
    "\n",
    "\n",
    "#to split a string\n",
    "input_str1=\"rushabh is my name\"\n",
    "split_string=input_str1.split()\n",
    "print(split_string)"
   ]
  },
  {
   "cell_type": "code",
   "execution_count": 46,
   "metadata": {},
   "outputs": [
    {
     "name": "stdout",
     "output_type": "stream",
     "text": [
      "[1, 2, 3, 4]\n",
      "1\n",
      "[1, 2, 3, 4, 5]\n",
      "[1, 2, 3, 5]\n",
      "[1, 100, 3, 5]\n",
      "[1]\n",
      "[1, 100, 3, 5, 6, 7, 8, 9]\n",
      "[100]\n",
      "[5, 3, 100, 1]\n",
      "r's average score: 50.00\n",
      "u's average score: 66.67\n",
      "s's average score: 36.67\n",
      "h's average score: 60.00\n"
     ]
    }
   ],
   "source": [
    "#list\n",
    "#1)basic printing of list\n",
    "rush_list=[1,2,3,4]\n",
    "rush_list1=[6,7,8,9]\n",
    "print(rush_list)\n",
    "\n",
    "#2)various methods\n",
    "print(rush_list[0])\n",
    "rush_list.append(5) #append\n",
    "print(rush_list)\n",
    "rush_list.pop(3)#pop\n",
    "print(rush_list) \n",
    "rush_list[1]=100 #update\n",
    "print(rush_list) \n",
    "rush_slice_list=rush_list[0:1:4] #slicing\n",
    "print(rush_slice_list)\n",
    "rush_concat=rush_list+rush_list1 #concat\n",
    "print(rush_concat)\n",
    "even_number=[int  for int in rush_list if int%2==0] #listfiltering\n",
    "print(even_number)\n",
    "rush_list.reverse()#reverse\n",
    "print(rush_list)\n",
    "\n",
    "#nested list\n",
    "students_score=[[\"r\",40,50,60],[\"u\",40,50,110],[\"s\",40,50,20],[\"h\",40,50,90]]\n",
    "for student_data in students_score:\n",
    "    name=student_data[0]\n",
    "    score=student_data[1:]\n",
    "    avg_score=sum(score) / len(score)\n",
    "    print(f\"{name}'s average score: {avg_score:.2f}\")\n",
    "\n",
    "\n",
    "\n",
    "\n",
    "\n",
    "\n",
    "\n"
   ]
  },
  {
   "cell_type": "code",
   "execution_count": 47,
   "metadata": {},
   "outputs": [
    {
     "name": "stdout",
     "output_type": "stream",
     "text": [
      "{(2, 3), 1, 3, 4}\n",
      "{1}\n",
      "{(2, 3), 1, 5}\n",
      "{(2, 3), 1, 2, 5}\n"
     ]
    }
   ],
   "source": [
    "#set\n",
    "set1={1,(2,3)}\n",
    "set2={3,4,1}\n",
    "union_set=set1.union(set2) #union\n",
    "print(union_set)\n",
    "union_set=set1.intersection(set2) #intersection\n",
    "print(union_set)\n",
    "set1.add(5) #adding a element\n",
    "print(set1)\n",
    "for i in range(1,3):\n",
    " set1.add(i)\n",
    "print(set1)\n",
    "\n"
   ]
  },
  {
   "cell_type": "code",
   "execution_count": 49,
   "metadata": {},
   "outputs": [
    {
     "name": "stdout",
     "output_type": "stream",
     "text": [
      "something pleasure\n",
      "dict_keys(['good', 'rushabh'])\n",
      "dict_values(['something pleasure', 'name of god'])\n",
      "dict_items([('good', 'something pleasure'), ('rushabh', 'name of god')])\n",
      "{'good': 'something pleasure', 'rushabh': 'name of god', 'yuvraj': 'rajasthani', 'worst': 'something not accepted', 'rush': 'in hurry'}\n"
     ]
    }
   ],
   "source": [
    "#dictionary\n",
    "dict1={\"good\":\"something pleasure\",\"rushabh\":\"name of god\"}\n",
    "dict2={\"worst\":\"something not accepted\",\"rush\":\"in hurry\"}\n",
    "\n",
    "print(dict1[\"good\"])\n",
    "print(dict1.keys())\n",
    "print(dict1.values())\n",
    "print(dict1.items()) #it gives the output in form of tuple\n",
    "dict1['yuvraj']='rajasthani' #to add into dictionary\n",
    "merge_dic={**dict1,**dict2}#to merge dictionary  ...... or dic1.update(dict2)\n",
    "print(merge_dic) \n",
    "dict1={'Nested':{'shantanu':'malad','saurav':'kalwa'},'harshil':'Indian'}\n",
    "\n"
   ]
  }
 ],
 "metadata": {
  "kernelspec": {
   "display_name": "Python 3",
   "language": "python",
   "name": "python3"
  },
  "language_info": {
   "codemirror_mode": {
    "name": "ipython",
    "version": 3
   },
   "file_extension": ".py",
   "mimetype": "text/x-python",
   "name": "python",
   "nbconvert_exporter": "python",
   "pygments_lexer": "ipython3",
   "version": "3.10.12"
  },
  "orig_nbformat": 4
 },
 "nbformat": 4,
 "nbformat_minor": 2
}
